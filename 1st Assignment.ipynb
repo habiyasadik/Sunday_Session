{
 "cells": [
  {
   "cell_type": "code",
   "execution_count": 1,
   "metadata": {},
   "outputs": [
    {
     "name": "stdout",
     "output_type": "stream",
     "text": [
      "This is my 1st code\n"
     ]
    }
   ],
   "source": [
    "print(\"This is my 1st code\")"
   ]
  },
  {
   "cell_type": "code",
   "execution_count": 2,
   "metadata": {},
   "outputs": [],
   "source": [
    "Name = \"Sadik\""
   ]
  },
  {
   "cell_type": "code",
   "execution_count": 3,
   "metadata": {},
   "outputs": [],
   "source": [
    "City = \"Mumbai\""
   ]
  },
  {
   "cell_type": "code",
   "execution_count": 4,
   "metadata": {},
   "outputs": [
    {
     "name": "stdout",
     "output_type": "stream",
     "text": [
      "Hi Sadik from Mumbai, how may i help youHi Sadik from Mumbai, how may i help youHi Sadik from Mumbai, how may i help you\n"
     ]
    }
   ],
   "source": [
    "print((\"Hi \" + Name + \" from \" + City + \", how may i help you\") * 3)"
   ]
  },
  {
   "cell_type": "code",
   "execution_count": 5,
   "metadata": {},
   "outputs": [
    {
     "name": "stdout",
     "output_type": "stream",
     "text": [
      "Hi Sadik from Mumbai, how may i help you. Hi Sadik from Mumbai, how may i help you. Hi Sadik from Mumbai, how may i help you. \n"
     ]
    }
   ],
   "source": [
    "print((\"Hi \" + Name + \" from \" + City + \", how may i help you. \") * 3)"
   ]
  },
  {
   "cell_type": "code",
   "execution_count": 6,
   "metadata": {},
   "outputs": [
    {
     "name": "stdout",
     "output_type": "stream",
     "text": [
      "What is your name? Sadik\n",
      "Where are you from? Mumbai\n",
      "\n",
      "Hi Sadik, from Mumbai , how may i help you\n",
      "Hope you having a nice day\n",
      "\n",
      "Hi Sadik, from Mumbai , how may i help you\n",
      "Hope you having a nice day\n",
      "\n",
      "Hi Sadik, from Mumbai , how may i help you\n",
      "Hope you having a nice day\n",
      "\n"
     ]
    }
   ],
   "source": [
    "#Multiline\n",
    "Name = input(\"What is your name? \")\n",
    "City = input(\"Where are you from? \")\n",
    "print((\"\"\"\n",
    "Hi {}, from {} , how may i help you\n",
    "Hope you having a nice day\n",
    "\"\"\".format(Name,City)) * 3)"
   ]
  },
  {
   "cell_type": "code",
   "execution_count": 7,
   "metadata": {},
   "outputs": [
    {
     "name": "stdout",
     "output_type": "stream",
     "text": [
      "What is your name? Sadik\n",
      "Where are you from? Mumbai\n",
      "Hi Sadik from Mumbai, how may i help you. Hi Sadik from Mumbai, how may i help you. Hi Sadik from Mumbai, how may i help you. \n"
     ]
    }
   ],
   "source": [
    "#Concentenation\n",
    "Name = input(\"What is your name? \")\n",
    "City = input(\"Where are you from? \")\n",
    "print((\"Hi \" + Name + \" from \" + City + \", how may i help you. \")* 3)"
   ]
  },
  {
   "cell_type": "code",
   "execution_count": null,
   "metadata": {},
   "outputs": [],
   "source": []
  }
 ],
 "metadata": {
  "kernelspec": {
   "display_name": "Python 3",
   "language": "python",
   "name": "python3"
  },
  "language_info": {
   "codemirror_mode": {
    "name": "ipython",
    "version": 3
   },
   "file_extension": ".py",
   "mimetype": "text/x-python",
   "name": "python",
   "nbconvert_exporter": "python",
   "pygments_lexer": "ipython3",
   "version": "3.7.3"
  }
 },
 "nbformat": 4,
 "nbformat_minor": 2
}
